{
 "cells": [
  {
   "cell_type": "markdown",
   "metadata": {},
   "source": [
    "# Optimize Profile Lengths\n",
    "\n",
    "The goal of this project was to solve a real business problem in the field of Industrial Engineering. In times of high material prices and poor material availability, it is very important to keep waste as low as possible. The use of suitable profile lengths plays a major role in the metalworking industry. For this reason, extruded profiles are stored in different lengths in order to select the version with the least waste for the specific order. The waste is created by cutting it down to the required level.\n",
    "\n",
    "One approach to calculate the fitting profile lengths is to analyze data from previous orders and calculate which lengths would have resulted in the least amount of material being used. An increase in the lengths stored leads to an ever-increasing reduction in scrap. However, as the number of combinations increases, it becomes more and more difficult to calculate the optimum. Automated algorithms come into play at this point. Here I would like to introduce a simple solution."
   ]
  },
  {
   "cell_type": "code",
   "execution_count": 38,
   "metadata": {},
   "outputs": [],
   "source": [
    "import numpy as np\n",
    "import pandas as pd\n",
    "import matplotlib.pyplot as plt\n",
    "import seaborn as sns\n",
    "import itertools "
   ]
  },
  {
   "cell_type": "markdown",
   "metadata": {},
   "source": [
    "The original data was loaded in csv format from a production database and needed some cleaning (commented-out code). For our project, however, we use randomly generated data with a similar distribution that is left-skeewed. More precisely most orders are shortly before the maximum possible configuration, but drop again in the direction of the maximum.\n",
    "\n",
    "We have 2 columns. The first column contains the number of individual parts that have been sawn per order (\"quantity\"), and the second column contains the corresponding cutting dimensions (\"z_value\"). \n",
    "\n",
    "It should also be noted that in this practical example each order must be manufactured individually. Optimization over several orders is not possible."
   ]
  },
  {
   "cell_type": "code",
   "execution_count": 39,
   "metadata": {},
   "outputs": [],
   "source": [
    "#file = \"data.csv\"\n",
    "#data = pd.read_csv(file, delimiter=\";\", names=[\"quantity\",\"z_value\"], header=0)\n",
    "#data.iloc[:,1] = data.iloc[:,1].apply(lambda x: x.replace(\".\",\"\").split(\",\", 1)[0].strip())\n",
    "#data.iloc[:,1] = data.iloc[:,1].astype('int64')"
   ]
  },
  {
   "cell_type": "code",
   "execution_count": 40,
   "metadata": {},
   "outputs": [
    {
     "data": {
      "text/html": [
       "<div>\n",
       "<style scoped>\n",
       "    .dataframe tbody tr th:only-of-type {\n",
       "        vertical-align: middle;\n",
       "    }\n",
       "\n",
       "    .dataframe tbody tr th {\n",
       "        vertical-align: top;\n",
       "    }\n",
       "\n",
       "    .dataframe thead th {\n",
       "        text-align: right;\n",
       "    }\n",
       "</style>\n",
       "<table border=\"1\" class=\"dataframe\">\n",
       "  <thead>\n",
       "    <tr style=\"text-align: right;\">\n",
       "      <th></th>\n",
       "      <th>quantity</th>\n",
       "      <th>z_value</th>\n",
       "    </tr>\n",
       "  </thead>\n",
       "  <tbody>\n",
       "    <tr>\n",
       "      <th>0</th>\n",
       "      <td>16</td>\n",
       "      <td>3373</td>\n",
       "    </tr>\n",
       "    <tr>\n",
       "      <th>1</th>\n",
       "      <td>24</td>\n",
       "      <td>3868</td>\n",
       "    </tr>\n",
       "    <tr>\n",
       "      <th>2</th>\n",
       "      <td>22</td>\n",
       "      <td>1826</td>\n",
       "    </tr>\n",
       "    <tr>\n",
       "      <th>3</th>\n",
       "      <td>22</td>\n",
       "      <td>3140</td>\n",
       "    </tr>\n",
       "    <tr>\n",
       "      <th>4</th>\n",
       "      <td>19</td>\n",
       "      <td>2733</td>\n",
       "    </tr>\n",
       "  </tbody>\n",
       "</table>\n",
       "</div>"
      ],
      "text/plain": [
       "   quantity  z_value\n",
       "0        16     3373\n",
       "1        24     3868\n",
       "2        22     1826\n",
       "3        22     3140\n",
       "4        19     2733"
      ]
     },
     "execution_count": 40,
     "metadata": {},
     "output_type": "execute_result"
    }
   ],
   "source": [
    "np.random.seed(1)\n",
    "\n",
    "z_value = list(map(int, np.random.triangular(1800, 4000, 4500, 1000)))\n",
    "quantity = list(map(int, np.random.triangular(5, 24, 27, 1000)))\n",
    "\n",
    "data_dict = {\"quantity\":quantity,\"z_value\":z_value}\n",
    "data = pd.DataFrame(data_dict)\n",
    "data.head()"
   ]
  },
  {
   "cell_type": "code",
   "execution_count": 41,
   "metadata": {},
   "outputs": [
    {
     "data": {
      "text/plain": [
       "count    1000.000000\n",
       "mean     3431.657000\n",
       "std       591.563856\n",
       "min      1826.000000\n",
       "25%      3022.750000\n",
       "50%      3535.500000\n",
       "75%      3911.000000\n",
       "max      4439.000000\n",
       "Name: z_value, dtype: float64"
      ]
     },
     "execution_count": 41,
     "metadata": {},
     "output_type": "execute_result"
    }
   ],
   "source": [
    "data.iloc[:,1].describe()"
   ]
  },
  {
   "cell_type": "code",
   "execution_count": 42,
   "metadata": {},
   "outputs": [
    {
     "data": {
      "image/png": "[encoded data removed]",
      "text/plain": [
       "<Figure size 432x288 with 1 Axes>"
      ]
     },
     "metadata": {},
     "output_type": "display_data"
    },
    {
     "data": {
      "image/png": "[encoded data removed]",
      "text/plain": [
       "<Figure size 432x288 with 1 Axes>"
      ]
     },
     "metadata": {},
     "output_type": "display_data"
    }
   ],
   "source": [
    "sns.set(style=\"darkgrid\")\n",
    "\n",
    "sns.histplot(data=data, x=\"quantity\", bins=20, kde=True)\n",
    "plt.show()\n",
    "\n",
    "sns.histplot(data=data, x=\"z_value\", bins=20, kde=True)\n",
    "plt.show()"
   ]
  },
  {
   "cell_type": "markdown",
   "metadata": {},
   "source": [
    "Our random generated data has 1000 entries. The cut size is moving between 1826 and 4439 mm with a mean of 3431 mm.\n",
    "\n",
    "In the next step we set all variables that are necessary to limit the analysis and define the its goal:\n",
    "- cut_part [mm]: First you have to determine the size of the part, which always has to be sawn off due to a first cut. This is necessary to trim the ends and create a vertical surface. The width of the saw blade must also be taken into account. In our case, 50 mm was a usual value.\n",
    "- min_limit/max_limit [mm]: It is possible to set a minimum and maximum value for the calculated profile lengts. Here we choose 3000 and 6000 mm, because the paint shop cannot hang up shorter profiles and longer parts are difficult to transport through production.\n",
    "- max_number_len: This variable defines how many profile lengths the optimized combination should have. In order to compare different numbers, the code must be run several times with different values.\n",
    "- initial_optimization_steps [mm]: The first loop of optimization is carried out with this value. In other words, the possible length range is divided into pieces with this value, from which the first combinations are formed.\n",
    "- target_optimization_steps [mm]: The optimization loop stops as soon as profile lengths have been changed with this value."
   ]
  },
  {
   "cell_type": "code",
   "execution_count": 43,
   "metadata": {},
   "outputs": [],
   "source": [
    "cut_part = 50\n",
    "\n",
    "min_limit = 3000\n",
    "max_limit = 6000\n",
    "\n",
    "max_number_len = 4\n",
    "\n",
    "initial_optimization_steps = 500\n",
    "target_optimization_steps = 10"
   ]
  },
  {
   "cell_type": "code",
   "execution_count": 44,
   "metadata": {},
   "outputs": [
    {
     "name": "stdout",
     "output_type": "stream",
     "text": [
      "initial profile lengths to test [3000, 3500, 4000, 4500, 5000, 5500, 6000]\n"
     ]
    }
   ],
   "source": [
    "# adding the cut part to the needed cutting length\n",
    "data.iloc[:,1] = data.iloc[:,1] + cut_part\n",
    "\n",
    "# round the shortest and longest profile length needed to produce all the jobs\n",
    "min_len_profile = data.iloc[:,1].min() // target_optimization_steps * target_optimization_steps + target_optimization_steps\n",
    "max_len_profile = (data.iloc[:,1].max() + (target_optimization_steps -1)) // target_optimization_steps * target_optimization_steps\n",
    "\n",
    "# set limits into account if not shorter then min_len_profile or max_len_profile\n",
    "start_len = max(min_len_profile, min_limit)\n",
    "end_len = max(max_len_profile+1, max_limit+1)\n",
    "\n",
    "current_optimization_steps = initial_optimization_steps\n",
    "\n",
    "# divide possible range by initial_optimization_steps and create a list of it\n",
    "test_lenghts = np.arange(start_len, end_len, current_optimization_steps).tolist()\n",
    "\n",
    "# add the max_limit length to the list, if it is not already included\n",
    "if end_len-1 not in test_lenghts:\n",
    "    test_lenghts.append(end_len-1)\n",
    "\n",
    "print(\"initial profile lengths to test\", test_lenghts)"
   ]
  },
  {
   "cell_type": "markdown",
   "metadata": {},
   "source": [
    "The functions required for the analysis are described below. They make it easier to create a loop."
   ]
  },
  {
   "cell_type": "markdown",
   "metadata": {},
   "source": [
    "The first function \"new_comb\" generates combinations of \"max_number_len\" lengths from the \"test_lengths\"."
   ]
  },
  {
   "cell_type": "code",
   "execution_count": 45,
   "metadata": {},
   "outputs": [],
   "source": [
    "def new_comb(test_lenghts, max_number_len, max_len_profile):\n",
    "\n",
    "    profile_comb = list(itertools.combinations(test_lenghts,max_number_len))\n",
    "\n",
    "    possible_profile_comb = profile_comb.copy()\n",
    "\n",
    "    # remove combinations that do not have a lenght to cover up the max_len_profile\n",
    "    for comb in profile_comb:\n",
    "        if max(comb) < max_len_profile:\n",
    "            possible_profile_comb.remove(comb)\n",
    "    \n",
    "    return possible_profile_comb"
   ]
  },
  {
   "cell_type": "markdown",
   "metadata": {},
   "source": [
    "The function \"data_comb\" combines the generated combinations with our data. Each combination gets its own column in the dataframe. With \"choose_len\" the lenght with the least amount of waste is chosen for every row in data and all given combinations. It also considers that it could be better to cut more than one part out of a profile length even when the chosen length could have been shorter."
   ]
  },
  {
   "cell_type": "code",
   "execution_count": 46,
   "metadata": {},
   "outputs": [],
   "source": [
    "def data_comb(data, possible_profile_comb):\n",
    "\n",
    "    data_combinations = data.copy()\n",
    "\n",
    "    for comb in possible_profile_comb:\n",
    "        data_combinations[comb] = data_combinations.apply(lambda row: choose_len(row[1], comb), axis=1)\n",
    "\n",
    "    return data_combinations"
   ]
  },
  {
   "cell_type": "code",
   "execution_count": 47,
   "metadata": {},
   "outputs": [],
   "source": [
    "def choose_len(z, comb):\n",
    "    \n",
    "    # start with highest value\n",
    "    best_residual = max(comb)\n",
    "    selected = max(comb)\n",
    "    \n",
    "    # iterate over all lengths in a combination\n",
    "    for length in comb:\n",
    "        if z <= length:\n",
    "            residual = length % z\n",
    "            if residual < best_residual:\n",
    "                best_residual = residual\n",
    "                selected = length\n",
    "                \n",
    "    return selected"
   ]
  },
  {
   "cell_type": "markdown",
   "metadata": {},
   "source": [
    "The function \"combination_results\" calculates demand, consumption and waste for every given combination."
   ]
  },
  {
   "cell_type": "code",
   "execution_count": 48,
   "metadata": {},
   "outputs": [],
   "source": [
    "def combination_results(data_combinations, possible_profile_comb):\n",
    "\n",
    "    combination_results = pd.DataFrame(possible_profile_comb)\n",
    "    combination_results[\"demand\"] = (data_combinations.iloc[:,0] * data_combinations.iloc[:,1]).sum() \n",
    "    \n",
    "    combination_results[\"consumption\"] = 0\n",
    "    for i in range(len(data_combinations.columns)-2):\n",
    "        # check how much profiles needed to cut the needed number of parts for the order\n",
    "        number_profiles = data_combinations.iloc[:,0] / (data_combinations.iloc[:,i+2] / data_combinations.iloc[:,1]).apply(lambda x: int(x))\n",
    "        combination_results.loc[i,\"consumption\"] = (number_profiles * data_combinations.iloc[:,i+2]).sum().round(0)\n",
    "\n",
    "    combination_results[\"waste\"] = combination_results[\"consumption\"] - combination_results[\"demand\"]\n",
    "    combination_results_sorted = combination_results.sort_values(by=[\"waste\"])\n",
    "    \n",
    "    return combination_results_sorted"
   ]
  },
  {
   "cell_type": "markdown",
   "metadata": {},
   "source": [
    "To reduce the amount of combinations and thus primarily the computational effort the function \"top_profile_lengths\" only takes the top three combination from the current loop to generate a new list of the best test lengths. This list will be expanded by values which are half the size of the current optimization step away from the lengths. This brings you closer to the target_optimization_steps with each loop. The newly generated list is the input for the next run of the optimization."
   ]
  },
  {
   "cell_type": "code",
   "execution_count": 49,
   "metadata": {},
   "outputs": [],
   "source": [
    "def top_profile_lengths (combination_results_sorted, current_optimization_steps, max_limit, min_limit):\n",
    "\n",
    "    unique_top_lengths = []\n",
    "\n",
    "    # generate a list of the lengths of the top 3 combinations\n",
    "    for i in range(len(combination_results_sorted.columns)-3):\n",
    "        unique_top_lengths.append(set(combination_results_sorted.iloc[:3,i]))\n",
    "\n",
    "    unique_top_lengths = set(itertools.chain.from_iterable(unique_top_lengths))\n",
    "    \n",
    "    # divide optimization_steps in half for the next loop\n",
    "    current_optimization_steps = current_optimization_steps / 2 // target_optimization_steps * target_optimization_steps\n",
    "    \n",
    "    # when current_optimization_steps is lower than target_optimization_steps, set it to target_optimization_steps\n",
    "    if current_optimization_steps / 2 < target_optimization_steps:\n",
    "        current_optimization_steps = target_optimization_steps\n",
    "\n",
    "    test_lenghts = []\n",
    "    \n",
    "    # adding values which are the current optimization step away from the lengths, but don't exceed the limits\n",
    "    for length in unique_top_lengths:\n",
    "        test_lenghts.append(length)\n",
    "        if length + current_optimization_steps <= max_limit:\n",
    "            test_lenghts.append(length + current_optimization_steps)  \n",
    "        if length - current_optimization_steps > min_limit:\n",
    "            test_lenghts.append(length - current_optimization_steps)\n",
    "    \n",
    "    test_lenghts = set(test_lenghts)\n",
    "    test_lenghts = list(test_lenghts)\n",
    "    test_lenghts.sort()\n",
    "\n",
    "    return test_lenghts, current_optimization_steps"
   ]
  },
  {
   "cell_type": "markdown",
   "metadata": {},
   "source": [
    "Loop through the function until target_optimization_steps is reached."
   ]
  },
  {
   "cell_type": "code",
   "execution_count": 50,
   "metadata": {
    "scrolled": true
   },
   "outputs": [
    {
     "name": "stdout",
     "output_type": "stream",
     "text": [
      "Iteration step 1 running\n",
      "35 combinations to examine\n",
      "Iteration step 1 finished\n",
      "Iteration step 2 running\n",
      "480 combinations to examine\n",
      "Iteration step 2 finished\n",
      "Iteration step 3 running\n",
      "3480 combinations to examine\n",
      "Iteration step 3 finished\n",
      "Iteration step 4 running\n",
      "819 combinations to examine\n",
      "Iteration step 4 finished\n",
      "Iteration step 5 running\n",
      "819 combinations to examine\n",
      "Iteration step 5 finished\n",
      "Iteration step 6 running\n",
      "2925 combinations to examine\n",
      "Iteration step 6 finished\n"
     ]
    }
   ],
   "source": [
    "evaluation_data = pd.DataFrame()\n",
    "\n",
    "iteration_step = 0\n",
    "\n",
    "target_step_reached = False\n",
    "\n",
    "while target_step_reached == False:\n",
    "    \n",
    "    iteration_step += 1\n",
    "    print(\"Iteration step\", iteration_step, \"running\")\n",
    "    \n",
    "    if current_optimization_steps == target_optimization_steps:\n",
    "        target_step_reached = True\n",
    "\n",
    "    possible_profile_comb = new_comb(test_lenghts, max_number_len, max_len_profile)\n",
    "    print(len(possible_profile_comb), \"combinations to examine\")\n",
    "    data_combinations = data_comb(data, possible_profile_comb)\n",
    "    combination_results_sorted = combination_results(data_combinations, possible_profile_comb)\n",
    "    test_lenghts, current_optimization_steps = top_profile_lengths (combination_results_sorted, current_optimization_steps, max_limit, min_limit)\n",
    "    \n",
    "    # add best combination of the iteration to a new dataframe\n",
    "    evaluation_data = pd.concat([evaluation_data, combination_results_sorted.iloc[0,]], axis=1)\n",
    "    print(\"Iteration step\", iteration_step, \"finished\")"
   ]
  },
  {
   "cell_type": "markdown",
   "metadata": {},
   "source": [
    "It's time to look at the results. "
   ]
  },
  {
   "cell_type": "code",
   "execution_count": 51,
   "metadata": {},
   "outputs": [
    {
     "name": "stdout",
     "output_type": "stream",
     "text": [
      "        0       1       2       3      demand  consumption      waste\n",
      "1  3000.0  3500.0  4000.0  4500.0  64209558.0   68930000.0  4720442.0\n",
      "2  3000.0  3500.0  4000.0  4500.0  64209558.0   68930000.0  4720442.0\n",
      "3  3120.0  3620.0  4120.0  4500.0  64209558.0   68897480.0  4687922.0\n",
      "4  3120.0  3680.0  4060.0  4500.0  64209558.0   68843200.0  4633642.0\n",
      "5  3030.0  3620.0  4060.0  4500.0  64209558.0   68828180.0  4618622.0\n",
      "6  3030.0  3620.0  4040.0  4490.0  64209558.0   68781050.0  4571492.0\n"
     ]
    }
   ],
   "source": [
    "# index of the best combination in the dataframe for further analysis\n",
    "index_best_comb = evaluation_data.columns[-1]\n",
    "\n",
    "# rename index from 1 to number of iterations\n",
    "evaluation_data.columns = np.arange(1,len(evaluation_data.columns)+1)\n",
    "# transponse the table for further analysis\n",
    "evaluation_data_transponsed = evaluation_data.T\n",
    "\n",
    "print(evaluation_data_transponsed)"
   ]
  },
  {
   "cell_type": "code",
   "execution_count": 52,
   "metadata": {},
   "outputs": [
    {
     "data": {
      "image/png": "[encoded data removed]",
      "text/plain": [
       "<Figure size 432x288 with 1 Axes>"
      ]
     },
     "metadata": {},
     "output_type": "display_data"
    }
   ],
   "source": [
    "sns.set(style=\"darkgrid\")\n",
    "ax = sns.lineplot(data=evaluation_data_transponsed[[\"waste\"]])\n",
    "ax.set_title(\"Optimization progress of waste reduction\", fontsize = 15)\n",
    "ax.set(xlabel='iteration step', ylabel='total waste [mm]')\n",
    "ax.set_xticks(range(1,len(evaluation_data.columns)+1), labels=range(1,len(evaluation_data.columns)+1))\n",
    "plt.show()"
   ]
  },
  {
   "cell_type": "markdown",
   "metadata": {},
   "source": [
    "With every iteration step the waste could be reduced. The best combination of 4 profile lengths is 3030, 3620, 4040 and 4490 mm."
   ]
  },
  {
   "cell_type": "code",
   "execution_count": 53,
   "metadata": {},
   "outputs": [
    {
     "data": {
      "text/html": [
       "<div>\n",
       "<style scoped>\n",
       "    .dataframe tbody tr th:only-of-type {\n",
       "        vertical-align: middle;\n",
       "    }\n",
       "\n",
       "    .dataframe tbody tr th {\n",
       "        vertical-align: top;\n",
       "    }\n",
       "\n",
       "    .dataframe thead th {\n",
       "        text-align: right;\n",
       "    }\n",
       "</style>\n",
       "<table border=\"1\" class=\"dataframe\">\n",
       "  <thead>\n",
       "    <tr style=\"text-align: right;\">\n",
       "      <th></th>\n",
       "      <th>quantity</th>\n",
       "      <th>z_value</th>\n",
       "      <th>(3030.0, 3620.0, 4040.0, 4490.0)</th>\n",
       "    </tr>\n",
       "  </thead>\n",
       "  <tbody>\n",
       "    <tr>\n",
       "      <th>0</th>\n",
       "      <td>16</td>\n",
       "      <td>3423</td>\n",
       "      <td>3620.0</td>\n",
       "    </tr>\n",
       "    <tr>\n",
       "      <th>1</th>\n",
       "      <td>24</td>\n",
       "      <td>3918</td>\n",
       "      <td>4040.0</td>\n",
       "    </tr>\n",
       "    <tr>\n",
       "      <th>2</th>\n",
       "      <td>22</td>\n",
       "      <td>1876</td>\n",
       "      <td>4040.0</td>\n",
       "    </tr>\n",
       "    <tr>\n",
       "      <th>3</th>\n",
       "      <td>22</td>\n",
       "      <td>3190</td>\n",
       "      <td>3620.0</td>\n",
       "    </tr>\n",
       "    <tr>\n",
       "      <th>4</th>\n",
       "      <td>19</td>\n",
       "      <td>2783</td>\n",
       "      <td>3030.0</td>\n",
       "    </tr>\n",
       "  </tbody>\n",
       "</table>\n",
       "</div>"
      ],
      "text/plain": [
       "   quantity  z_value  (3030.0, 3620.0, 4040.0, 4490.0)\n",
       "0        16     3423                            3620.0\n",
       "1        24     3918                            4040.0\n",
       "2        22     1876                            4040.0\n",
       "3        22     3190                            3620.0\n",
       "4        19     2783                            3030.0"
      ]
     },
     "execution_count": 53,
     "metadata": {},
     "output_type": "execute_result"
    }
   ],
   "source": [
    "data_best_comb = data_combinations.iloc[:,[0,1,index_best_comb+2]]\n",
    "data_best_comb.head()"
   ]
  },
  {
   "cell_type": "code",
   "execution_count": 54,
   "metadata": {},
   "outputs": [],
   "source": [
    "frequency_table = data_best_comb.iloc[:,-1].value_counts()"
   ]
  },
  {
   "cell_type": "code",
   "execution_count": 55,
   "metadata": {},
   "outputs": [
    {
     "data": {
      "image/png": "[encoded data removed]",
      "text/plain": [
       "<Figure size 432x288 with 1 Axes>"
      ]
     },
     "metadata": {},
     "output_type": "display_data"
    }
   ],
   "source": [
    "# pie Chart\n",
    "plt.pie(frequency_table,  autopct='%.0f%%', pctdistance=0.78, colors=sns.color_palette(\"husl\"), radius=1.5)\n",
    "  \n",
    "# draw circle\n",
    "centre_circle = plt.Circle((0, 0), .85, fc='white')\n",
    "fig = plt.gcf()\n",
    "\n",
    "# adding Circle in Pie chart\n",
    "fig.gca().add_artist(centre_circle)\n",
    "\n",
    "# adding legend\n",
    "plt.legend(frequency_table.index, title=\"Optimal Lengths\", loc=10)\n",
    "\n",
    "plt.title(\"Distribution of the best profile combination\", fontsize = 15, y=1.15)\n",
    "plt.show()"
   ]
  },
  {
   "cell_type": "markdown",
   "metadata": {},
   "source": [
    "The 4 lengths are distrubuted very evenly, so it can be assumed that it is worthwhile to use them. It should be tested whether additional lengths make sense."
   ]
  },
  {
   "cell_type": "markdown",
   "metadata": {},
   "source": [
    "## Conclusions\n",
    "\n",
    "The algorithm could satisfactorily solve the actual real business problem. In this case it was sufficient to calculate 2 to 4 different lengths.\n",
    "\n",
    "However, it was noticeable that the calculation of combinations of more than 4 lengths and small iteration steps takes a long time, since several thousand possibilities have to be checked. To improve this, a first step could be to reduce the number of lengths to be considered as the optimization progresses. From a certain point it may be enough to improve only the current best combination. Another idea would be to eliminate possible lengths that are very close to each other or to combine them into an average. The size of the order data could be also reduced by sampling."
   ]
  }
 ],
 "metadata": {
  "kernelspec": {
   "display_name": "Python 3 (ipykernel)",
   "language": "python",
   "name": "python3"
  },
  "language_info": {
   "codemirror_mode": {
    "name": "ipython",
    "version": 3
   },
   "file_extension": ".py",
   "mimetype": "text/x-python",
   "name": "python",
   "nbconvert_exporter": "python",
   "pygments_lexer": "ipython3",
   "version": "3.9.12"
  }
 },
 "nbformat": 4,
 "nbformat_minor": 4
}
